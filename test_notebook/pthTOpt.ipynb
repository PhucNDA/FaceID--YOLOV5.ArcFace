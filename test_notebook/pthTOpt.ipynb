{
  "cells": [
    {
      "cell_type": "code",
      "execution_count": 1,
      "metadata": {},
      "outputs": [
        {
          "name": "stdout",
          "output_type": "stream",
          "text": [
            "d:\\Face_ID_Project\\FaceDetection\n",
            " Volume in drive D has no label.\n",
            " Volume Serial Number is 06F1-503F\n",
            "\n",
            " Directory of d:\\Face_ID_Project\\FaceDetection\n",
            "\n",
            "02/11/2023  11:15 AM    <DIR>          .\n",
            "02/11/2023  11:15 AM    <DIR>          ..\n",
            "02/11/2023  11:15 AM            60,803 pthTOpt.ipynb\n",
            "02/11/2023  11:15 AM    <DIR>          yolov5-face\n",
            "02/11/2023  10:23 AM        88,302,403 yolov5m-face.onnx\n",
            "               2 File(s)     88,363,206 bytes\n",
            "               3 Dir(s)  166,536,769,536 bytes free\n"
          ]
        }
      ],
      "source": [
        "%cd \"D:\\Face_ID_Project\\FaceDetection\"\n",
        "%ls"
      ]
    },
    {
      "cell_type": "code",
      "execution_count": 2,
      "metadata": {
        "colab": {
          "base_uri": "https://localhost:8080/"
        },
        "id": "cqLjkwjsirV2",
        "outputId": "dac46a96-63ac-4500-bd9f-ef998abfad22"
      },
      "outputs": [
        {
          "name": "stdout",
          "output_type": "stream",
          "text": [
            "d:\\Face_ID_Project\\FaceDetection\\yolov5-face\n"
          ]
        },
        {
          "name": "stderr",
          "output_type": "stream",
          "text": [
            "fatal: destination path 'yolov5-face' already exists and is not an empty directory.\n"
          ]
        }
      ],
      "source": [
        "!git clone https://github.com/deepcam-cn/yolov5-face\n",
        "%cd yolov5-face"
      ]
    },
    {
      "cell_type": "code",
      "execution_count": 4,
      "metadata": {
        "colab": {
          "base_uri": "https://localhost:8080/"
        },
        "id": "BXcBIDc9jzPw",
        "outputId": "e21470c3-b420-4377-c78e-7ca61422c491"
      },
      "outputs": [
        {
          "name": "stdout",
          "output_type": "stream",
          "text": [
            "Requirement already satisfied: onnx in c:\\users\\asus\\anaconda3\\envs\\epylib\\lib\\site-packages (1.13.0)\n",
            "Requirement already satisfied: protobuf<4,>=3.20.2 in c:\\users\\asus\\anaconda3\\envs\\epylib\\lib\\site-packages (from onnx) (3.20.3)\n",
            "Requirement already satisfied: typing-extensions>=3.6.2.1 in c:\\users\\asus\\anaconda3\\envs\\epylib\\lib\\site-packages (from onnx) (4.4.0)\n",
            "Requirement already satisfied: numpy>=1.16.6 in c:\\users\\asus\\anaconda3\\envs\\epylib\\lib\\site-packages (from onnx) (1.23.3)\n",
            "Note: you may need to restart the kernel to use updated packages.\n",
            "Requirement already satisfied: onnxruntime in c:\\users\\asus\\anaconda3\\envs\\epylib\\lib\\site-packages (1.14.0)\n",
            "Requirement already satisfied: sympy in c:\\users\\asus\\anaconda3\\envs\\epylib\\lib\\site-packages (from onnxruntime) (1.11.1)\n",
            "Requirement already satisfied: numpy>=1.21.6 in c:\\users\\asus\\anaconda3\\envs\\epylib\\lib\\site-packages (from onnxruntime) (1.23.3)\n",
            "Requirement already satisfied: flatbuffers in c:\\users\\asus\\anaconda3\\envs\\epylib\\lib\\site-packages (from onnxruntime) (2.0)\n",
            "Requirement already satisfied: protobuf in c:\\users\\asus\\anaconda3\\envs\\epylib\\lib\\site-packages (from onnxruntime) (3.20.3)\n",
            "Requirement already satisfied: packaging in c:\\users\\asus\\anaconda3\\envs\\epylib\\lib\\site-packages (from onnxruntime) (21.3)\n",
            "Requirement already satisfied: coloredlogs in c:\\users\\asus\\anaconda3\\envs\\epylib\\lib\\site-packages (from onnxruntime) (15.0.1)\n",
            "Requirement already satisfied: humanfriendly>=9.1 in c:\\users\\asus\\anaconda3\\envs\\epylib\\lib\\site-packages (from coloredlogs->onnxruntime) (10.0)\n",
            "Requirement already satisfied: pyparsing!=3.0.5,>=2.0.2 in c:\\users\\asus\\anaconda3\\envs\\epylib\\lib\\site-packages (from packaging->onnxruntime) (3.0.4)\n",
            "Requirement already satisfied: mpmath>=0.19 in c:\\users\\asus\\anaconda3\\envs\\epylib\\lib\\site-packages (from sympy->onnxruntime) (1.2.1)\n",
            "Requirement already satisfied: pyreadline3 in c:\\users\\asus\\anaconda3\\envs\\epylib\\lib\\site-packages (from humanfriendly>=9.1->coloredlogs->onnxruntime) (3.4.1)\n",
            "Note: you may need to restart the kernel to use updated packages.\n",
            "Requirement already satisfied: mmcv in c:\\users\\asus\\anaconda3\\envs\\epylib\\lib\\site-packages (1.7.1)\n",
            "Requirement already satisfied: numpy in c:\\users\\asus\\anaconda3\\envs\\epylib\\lib\\site-packages (from mmcv) (1.23.3)\n",
            "Requirement already satisfied: yapf in c:\\users\\asus\\anaconda3\\envs\\epylib\\lib\\site-packages (from mmcv) (0.32.0)\n",
            "Requirement already satisfied: packaging in c:\\users\\asus\\anaconda3\\envs\\epylib\\lib\\site-packages (from mmcv) (21.3)\n",
            "Requirement already satisfied: regex in c:\\users\\asus\\anaconda3\\envs\\epylib\\lib\\site-packages (from mmcv) (2022.10.31)\n",
            "Requirement already satisfied: Pillow in c:\\users\\asus\\anaconda3\\envs\\epylib\\lib\\site-packages (from mmcv) (9.2.0)\n",
            "Requirement already satisfied: pyyaml in c:\\users\\asus\\anaconda3\\envs\\epylib\\lib\\site-packages (from mmcv) (6.0)\n",
            "Requirement already satisfied: addict in c:\\users\\asus\\anaconda3\\envs\\epylib\\lib\\site-packages (from mmcv) (2.4.0)\n",
            "Requirement already satisfied: pyparsing!=3.0.5,>=2.0.2 in c:\\users\\asus\\anaconda3\\envs\\epylib\\lib\\site-packages (from packaging->mmcv) (3.0.4)\n",
            "Note: you may need to restart the kernel to use updated packages.\n"
          ]
        }
      ],
      "source": [
        "%pip install onnx\n",
        "%pip install onnxruntime\n",
        "%pip install mmcv"
      ]
    },
    {
      "cell_type": "code",
      "execution_count": 5,
      "metadata": {},
      "outputs": [
        {
          "name": "stdout",
          "output_type": "stream",
          "text": [
            "Collecting torch\n",
            "  Downloading torch-1.13.1-cp39-cp39-win_amd64.whl (162.5 MB)\n",
            "     -------------------------------------- 162.5/162.5 MB 5.7 MB/s eta 0:00:00\n",
            "Requirement already satisfied: typing-extensions in c:\\users\\asus\\anaconda3\\envs\\epylib\\lib\\site-packages (from torch) (4.4.0)\n",
            "Installing collected packages: torch\n",
            "Successfully installed torch-1.13.1\n",
            "Note: you may need to restart the kernel to use updated packages.\n"
          ]
        }
      ],
      "source": [
        "%pip install torch"
      ]
    },
    {
      "cell_type": "code",
      "execution_count": 3,
      "metadata": {},
      "outputs": [
        {
          "name": "stdout",
          "output_type": "stream",
          "text": [
            "Requirement already satisfied: torchvision in c:\\python310\\lib\\site-packages (0.14.1)\n",
            "Requirement already satisfied: pillow!=8.3.*,>=5.3.0 in c:\\python310\\lib\\site-packages (from torchvision) (9.1.0)\n",
            "Requirement already satisfied: torch==1.13.1 in c:\\python310\\lib\\site-packages (from torchvision) (1.13.1)\n",
            "Requirement already satisfied: typing-extensions in c:\\python310\\lib\\site-packages (from torchvision) (4.4.0)\n",
            "Requirement already satisfied: numpy in c:\\python310\\lib\\site-packages (from torchvision) (1.22.3)\n",
            "Requirement already satisfied: requests in c:\\python310\\lib\\site-packages (from torchvision) (2.27.1)\n",
            "Requirement already satisfied: idna<4,>=2.5 in c:\\python310\\lib\\site-packages (from requests->torchvision) (3.3)\n",
            "Requirement already satisfied: charset-normalizer~=2.0.0 in c:\\python310\\lib\\site-packages (from requests->torchvision) (2.0.12)\n",
            "Requirement already satisfied: urllib3<1.27,>=1.21.1 in c:\\python310\\lib\\site-packages (from requests->torchvision) (1.26.9)\n",
            "Requirement already satisfied: certifi>=2017.4.17 in c:\\python310\\lib\\site-packages (from requests->torchvision) (2021.10.8)\n"
          ]
        },
        {
          "name": "stderr",
          "output_type": "stream",
          "text": [
            "WARNING: Ignoring invalid distribution -ip (c:\\python310\\lib\\site-packages)\n",
            "WARNING: Ignoring invalid distribution - (c:\\python310\\lib\\site-packages)\n",
            "WARNING: Ignoring invalid distribution -ip (c:\\python310\\lib\\site-packages)\n",
            "WARNING: Ignoring invalid distribution - (c:\\python310\\lib\\site-packages)\n",
            "WARNING: Ignoring invalid distribution -ip (c:\\python310\\lib\\site-packages)\n",
            "WARNING: Ignoring invalid distribution - (c:\\python310\\lib\\site-packages)\n",
            "WARNING: Ignoring invalid distribution -ip (c:\\python310\\lib\\site-packages)\n",
            "WARNING: Ignoring invalid distribution - (c:\\python310\\lib\\site-packages)\n",
            "WARNING: Ignoring invalid distribution -ip (c:\\python310\\lib\\site-packages)\n",
            "WARNING: Ignoring invalid distribution - (c:\\python310\\lib\\site-packages)\n",
            "WARNING: Ignoring invalid distribution -ip (c:\\python310\\lib\\site-packages)\n",
            "WARNING: Ignoring invalid distribution - (c:\\python310\\lib\\site-packages)\n",
            "WARNING: You are using pip version 22.0.4; however, version 23.0 is available.\n",
            "You should consider upgrading via the 'C:\\Python310\\python.exe -m pip install --upgrade pip' command.\n"
          ]
        }
      ],
      "source": [
        "%pip install torchvision"
      ]
    },
    {
      "cell_type": "code",
      "execution_count": 4,
      "metadata": {},
      "outputs": [
        {
          "name": "stdout",
          "output_type": "stream",
          "text": [
            "Requirement already satisfied: PyYAML in c:\\python310\\lib\\site-packages (6.0)\n"
          ]
        },
        {
          "name": "stderr",
          "output_type": "stream",
          "text": [
            "WARNING: Ignoring invalid distribution -ip (c:\\python310\\lib\\site-packages)\n",
            "WARNING: Ignoring invalid distribution - (c:\\python310\\lib\\site-packages)\n",
            "WARNING: Ignoring invalid distribution -ip (c:\\python310\\lib\\site-packages)\n",
            "WARNING: Ignoring invalid distribution - (c:\\python310\\lib\\site-packages)\n",
            "WARNING: Ignoring invalid distribution -ip (c:\\python310\\lib\\site-packages)\n",
            "WARNING: Ignoring invalid distribution - (c:\\python310\\lib\\site-packages)\n",
            "WARNING: Ignoring invalid distribution -ip (c:\\python310\\lib\\site-packages)\n",
            "WARNING: Ignoring invalid distribution - (c:\\python310\\lib\\site-packages)\n",
            "WARNING: Ignoring invalid distribution -ip (c:\\python310\\lib\\site-packages)\n",
            "WARNING: Ignoring invalid distribution - (c:\\python310\\lib\\site-packages)\n",
            "WARNING: Ignoring invalid distribution -ip (c:\\python310\\lib\\site-packages)\n",
            "WARNING: Ignoring invalid distribution - (c:\\python310\\lib\\site-packages)\n",
            "WARNING: You are using pip version 22.0.4; however, version 23.0 is available.\n",
            "You should consider upgrading via the 'C:\\Python310\\python.exe -m pip install --upgrade pip' command.\n"
          ]
        }
      ],
      "source": [
        "%pip install PyYAML\n"
      ]
    },
    {
      "cell_type": "code",
      "execution_count": 6,
      "metadata": {},
      "outputs": [
        {
          "name": "stdout",
          "output_type": "stream",
          "text": [
            "Requirement already satisfied: seaborn in c:\\users\\asus\\anaconda3\\envs\\epylib\\lib\\site-packages (0.12.0)\n",
            "Requirement already satisfied: numpy>=1.17 in c:\\users\\asus\\anaconda3\\envs\\epylib\\lib\\site-packages (from seaborn) (1.23.3)\n",
            "Requirement already satisfied: matplotlib>=3.1 in c:\\users\\asus\\anaconda3\\envs\\epylib\\lib\\site-packages (from seaborn) (3.5.2)\n",
            "Requirement already satisfied: pandas>=0.25 in c:\\users\\asus\\anaconda3\\envs\\epylib\\lib\\site-packages (from seaborn) (1.4.2)\n",
            "Requirement already satisfied: pillow>=6.2.0 in c:\\users\\asus\\anaconda3\\envs\\epylib\\lib\\site-packages (from matplotlib>=3.1->seaborn) (9.2.0)\n",
            "Requirement already satisfied: fonttools>=4.22.0 in c:\\users\\asus\\anaconda3\\envs\\epylib\\lib\\site-packages (from matplotlib>=3.1->seaborn) (4.25.0)\n",
            "Requirement already satisfied: pyparsing>=2.2.1 in c:\\users\\asus\\anaconda3\\envs\\epylib\\lib\\site-packages (from matplotlib>=3.1->seaborn) (3.0.4)\n",
            "Requirement already satisfied: packaging>=20.0 in c:\\users\\asus\\anaconda3\\envs\\epylib\\lib\\site-packages (from matplotlib>=3.1->seaborn) (21.3)\n",
            "Requirement already satisfied: kiwisolver>=1.0.1 in c:\\users\\asus\\anaconda3\\envs\\epylib\\lib\\site-packages (from matplotlib>=3.1->seaborn) (1.4.4)\n",
            "Requirement already satisfied: cycler>=0.10 in c:\\users\\asus\\anaconda3\\envs\\epylib\\lib\\site-packages (from matplotlib>=3.1->seaborn) (0.11.0)\n",
            "Requirement already satisfied: python-dateutil>=2.7 in c:\\users\\asus\\anaconda3\\envs\\epylib\\lib\\site-packages (from matplotlib>=3.1->seaborn) (2.8.2)\n",
            "Requirement already satisfied: pytz>=2020.1 in c:\\users\\asus\\anaconda3\\envs\\epylib\\lib\\site-packages (from pandas>=0.25->seaborn) (2022.1)\n",
            "Requirement already satisfied: six>=1.5 in c:\\users\\asus\\anaconda3\\envs\\epylib\\lib\\site-packages (from python-dateutil>=2.7->matplotlib>=3.1->seaborn) (1.16.0)\n",
            "Note: you may need to restart the kernel to use updated packages.\n"
          ]
        }
      ],
      "source": [
        "%pip install seaborn"
      ]
    },
    {
      "cell_type": "code",
      "execution_count": 7,
      "metadata": {
        "colab": {
          "base_uri": "https://localhost:8080/"
        },
        "id": "1gpNDpRxh7Ob",
        "outputId": "d2893933-ca37-4a86-9ca9-96e1daeca2df"
      },
      "outputs": [
        {
          "name": "stderr",
          "output_type": "stream",
          "text": [
            "UsageError: Line magic function `%python` not found (But cell magic `%%python` exists, did you mean that instead?).\n"
          ]
        }
      ],
      "source": [
        "%python export.py --weights ./yolov5m-face.pt"
      ]
    },
    {
      "cell_type": "code",
      "execution_count": 8,
      "metadata": {},
      "outputs": [
        {
          "name": "stdout",
          "output_type": "stream",
          "text": [
            "Collecting opencv-python\n",
            "  Downloading opencv_python-4.7.0.68-cp37-abi3-win_amd64.whl (38.2 MB)\n",
            "     ---------------------------------------- 38.2/38.2 MB 8.3 MB/s eta 0:00:00\n",
            "Requirement already satisfied: numpy>=1.17.3 in c:\\users\\asus\\anaconda3\\envs\\epylib\\lib\\site-packages (from opencv-python) (1.23.3)\n",
            "Installing collected packages: opencv-python\n",
            "Successfully installed opencv-python-4.7.0.68\n",
            "Note: you may need to restart the kernel to use updated packages.\n"
          ]
        }
      ],
      "source": [
        "%pip install opencv-python"
      ]
    },
    {
      "cell_type": "code",
      "execution_count": 56,
      "metadata": {},
      "outputs": [
        {
          "name": "stdout",
          "output_type": "stream",
          "text": [
            "Requirement already satisfied: pip in c:\\python310\\lib\\site-packages (22.0.4)\n",
            "Collecting pip\n",
            "  Using cached pip-23.0-py3-none-any.whl (2.1 MB)\n",
            "Installing collected packages: pip\n",
            "  Attempting uninstall: pip\n",
            "    Found existing installation: pip 22.0.4\n",
            "    Uninstalling pip-22.0.4:\n"
          ]
        },
        {
          "name": "stderr",
          "output_type": "stream",
          "text": [
            "WARNING: Ignoring invalid distribution -ip (c:\\python310\\lib\\site-packages)\n",
            "WARNING: Ignoring invalid distribution -ip (c:\\python310\\lib\\site-packages)\n",
            "WARNING: Ignoring invalid distribution -ip (c:\\python310\\lib\\site-packages)\n",
            "    WARNING: Ignoring invalid distribution -ip (c:\\python310\\lib\\site-packages)\n",
            "ERROR: Could not install packages due to an OSError: [WinError 5] Access is denied: 'c:\\\\python310\\\\lib\\\\site-packages\\\\pip-22.0.4.dist-info\\\\entry_points.txt'\n",
            "Consider using the `--user` option or check the permissions.\n",
            "\n",
            "WARNING: Ignoring invalid distribution -ip (c:\\python310\\lib\\site-packages)\n",
            "WARNING: Ignoring invalid distribution -ip (c:\\python310\\lib\\site-packages)\n",
            "WARNING: Ignoring invalid distribution -ip (c:\\python310\\lib\\site-packages)\n",
            "WARNING: You are using pip version 22.0.4; however, version 23.0 is available.\n",
            "You should consider upgrading via the 'C:\\Python310\\python.exe -m pip install --upgrade pip' command.\n"
          ]
        }
      ],
      "source": [
        "!C:\\Python310\\python.exe -m pip install --upgrade pip"
      ]
    },
    {
      "cell_type": "code",
      "execution_count": 5,
      "metadata": {},
      "outputs": [
        {
          "name": "stdout",
          "output_type": "stream",
          "text": [
            "Requirement already satisfied: onnxruntime in c:\\python310\\lib\\site-packages (1.13.1)\n",
            "Requirement already satisfied: packaging in c:\\python310\\lib\\site-packages (from onnxruntime) (21.3)\n",
            "Requirement already satisfied: flatbuffers in c:\\python310\\lib\\site-packages (from onnxruntime) (23.1.21)\n",
            "Requirement already satisfied: sympy in c:\\python310\\lib\\site-packages (from onnxruntime) (1.11.1)\n",
            "Requirement already satisfied: numpy>=1.21.6 in c:\\python310\\lib\\site-packages (from onnxruntime) (1.22.3)\n",
            "Requirement already satisfied: coloredlogs in c:\\python310\\lib\\site-packages (from onnxruntime) (15.0.1)\n",
            "Requirement already satisfied: protobuf in c:\\python310\\lib\\site-packages (from onnxruntime) (3.20.3)\n",
            "Requirement already satisfied: humanfriendly>=9.1 in c:\\python310\\lib\\site-packages (from coloredlogs->onnxruntime) (10.0)\n",
            "Requirement already satisfied: pyparsing!=3.0.5,>=2.0.2 in c:\\python310\\lib\\site-packages (from packaging->onnxruntime) (3.0.8)\n",
            "Requirement already satisfied: mpmath>=0.19 in c:\\python310\\lib\\site-packages (from sympy->onnxruntime) (1.2.1)\n",
            "Requirement already satisfied: pyreadline3 in c:\\python310\\lib\\site-packages (from humanfriendly>=9.1->coloredlogs->onnxruntime) (3.4.1)\n"
          ]
        },
        {
          "name": "stderr",
          "output_type": "stream",
          "text": [
            "WARNING: Ignoring invalid distribution -ip (c:\\python310\\lib\\site-packages)\n",
            "WARNING: Ignoring invalid distribution - (c:\\python310\\lib\\site-packages)\n",
            "WARNING: Ignoring invalid distribution -ip (c:\\python310\\lib\\site-packages)\n",
            "WARNING: Ignoring invalid distribution - (c:\\python310\\lib\\site-packages)\n",
            "WARNING: Ignoring invalid distribution -ip (c:\\python310\\lib\\site-packages)\n",
            "WARNING: Ignoring invalid distribution - (c:\\python310\\lib\\site-packages)\n",
            "WARNING: Ignoring invalid distribution -ip (c:\\python310\\lib\\site-packages)\n",
            "WARNING: Ignoring invalid distribution - (c:\\python310\\lib\\site-packages)\n",
            "WARNING: Ignoring invalid distribution -ip (c:\\python310\\lib\\site-packages)\n",
            "WARNING: Ignoring invalid distribution - (c:\\python310\\lib\\site-packages)\n",
            "WARNING: Ignoring invalid distribution -ip (c:\\python310\\lib\\site-packages)\n",
            "WARNING: Ignoring invalid distribution - (c:\\python310\\lib\\site-packages)\n",
            "WARNING: You are using pip version 22.0.4; however, version 23.0 is available.\n",
            "You should consider upgrading via the 'C:\\Python310\\python.exe -m pip install --upgrade pip' command.\n"
          ]
        }
      ],
      "source": [
        "%pip install onnxruntime\n"
      ]
    },
    {
      "cell_type": "code",
      "execution_count": 58,
      "metadata": {},
      "outputs": [],
      "source": [
        "import onnxruntime as ort"
      ]
    },
    {
      "cell_type": "code",
      "execution_count": 9,
      "metadata": {
        "colab": {
          "base_uri": "https://localhost:8080/",
          "height": 393
        },
        "id": "_Lj3Ci_gFZJS",
        "outputId": "b9e69d0b-ad64-4222-8226-cfa06a09f3a1"
      },
      "outputs": [],
      "source": [
        "import random\n",
        "import numpy as np\n",
        "import onnxruntime as ort\n",
        "import cv2\n",
        "import time\n",
        "import torch\n",
        "import torchvision\n",
        "import argparse\n",
        "\n",
        "\n",
        "class ort_v5:\n",
        "    def __init__(self, img_path, onnx_model, conf_thres, iou_thres, img_size, classes, webcam=False):\n",
        "        self.webcam = webcam\n",
        "        self.img_path= img_path\n",
        "        self.onnx_model=onnx_model\n",
        "        self.conf_thres=conf_thres\n",
        "        self.iou_thres =iou_thres\n",
        "        self.img_size=img_size\n",
        "        # self.cuda= cuda\n",
        "        self.names= classes\n",
        "\n",
        "    def __call__(self):\n",
        "        #image preprocessing\n",
        "        if self.webcam:\n",
        "          vid = cv2.VideoCapture(0)\n",
        "          while True:\n",
        "            ret, frame = vid.read()\n",
        "            output = self.detect_img(frame)\n",
        "            cv2.imshow('Face Detection', output)\n",
        "            if cv2.waitKey(1) & 0xFF == ord('q'):\n",
        "                break\n",
        "          vid.release()\n",
        "          cv2.destroyAllWindows()         \n",
        "        else:\n",
        "          image_or= cv2.imread(self.img_path)\n",
        "          self.detect_img(image_or)\n",
        "\n",
        "    def detect_img(self, image_or):\n",
        "        \n",
        "        # print(image_or)\n",
        "        image, ratio, dwdh = self.letterbox(image_or, auto=False)\n",
        "        image = image.transpose((2, 0, 1))\n",
        "        image = np.expand_dims(image, 0)\n",
        "        image = np.ascontiguousarray(image)\n",
        "        im = image.astype(np.float32)\n",
        "        im /= 255\n",
        "        # print(im.shape)\n",
        "\n",
        "        #onnxruntime session\n",
        "        session= self.ort_session()\n",
        "        outname = [i.name for i in session.get_outputs()]\n",
        "        inname = [i.name for i in session.get_inputs()]\n",
        "        # print('input-output names:',inname,outname)\n",
        "        inp = {inname[0]:im}\n",
        "\n",
        "        # ONNXRuntime inference\n",
        "        t1 = time.time()\n",
        "        outputs = session.run(outname, inp)[0]\n",
        "        t2 = time.time()\n",
        "        output= torch.from_numpy(outputs)\n",
        "        # output = torch.tensor(np.array(outputs, dtype=np.float64))\n",
        "\n",
        "        # temp = [[o[0], o[1], o[2], o[3], o[-1], 0] for o in output_temp[0]]\n",
        "        # t=output_temp[0].resize_(np.asarray(temp).shape)\n",
        "        # t = [t]\n",
        "        # output = torch.stack(t)\n",
        "        # output[0] = torch.FloatTensor(temp)        \n",
        "\n",
        "        out =self.non_max_suppression_face(output, self.conf_thres, self.iou_thres)[0]\n",
        "        # print('yolov5 ONNXRuntime Inference Time:', t2-t1)\n",
        "        img=self.result(image_or,ratio, dwdh, out)\n",
        "        if self.webcam:\n",
        "            return img\n",
        "        else:\n",
        "            cv2.imwrite('./result.jpg', img)\n",
        "        # print('result', img.shape)\n",
        "        # cv2.imshow('result',img)\n",
        "        # cv2.waitKey(0)\n",
        " \n",
        "    def box_iou(self,box1, box2, eps=1e-7):\n",
        "        # https://github.com/pytorch/vision/blob/master/torchvision/ops/boxes.py\n",
        "        \"\"\"\n",
        "        Return intersection-over-union (Jaccard index) of boxes.\n",
        "        Both sets of boxes are expected to be in (x1, y1, x2, y2) format.\n",
        "        Arguments:\n",
        "            box1 (Tensor[N, 4])\n",
        "            box2 (Tensor[M, 4])\n",
        "        Returns:\n",
        "            iou (Tensor[N, M]): the NxM matrix containing the pairwise\n",
        "                IoU values for every element in boxes1 and boxes2\n",
        "        \"\"\"\n",
        "\n",
        "        # inter(N,M) = (rb(N,M,2) - lt(N,M,2)).clamp(0).prod(2)\n",
        "        (a1, a2), (b1, b2) = box1.unsqueeze(1).chunk(2, 2), box2.unsqueeze(0).chunk(2, 2)\n",
        "        inter = (torch.min(a2, b2) - torch.max(a1, b1)).clamp(0).prod(2)\n",
        "\n",
        "        # IoU = inter / (area1 + area2 - inter)\n",
        "        return inter / ((a2 - a1).prod(2) + (b2 - b1).prod(2) - inter + eps)\n",
        "\n",
        "    def box_iou(box1, box2):\n",
        "        # https://github.com/pytorch/vision/blob/master/torchvision/ops/boxes.py\n",
        "        \"\"\"\n",
        "        Return intersection-over-union (Jaccard index) of boxes.\n",
        "        Both sets of boxes are expected to be in (x1, y1, x2, y2) format.\n",
        "        Arguments:\n",
        "            box1 (Tensor[N, 4])\n",
        "            box2 (Tensor[M, 4])\n",
        "        Returns:\n",
        "            iou (Tensor[N, M]): the NxM matrix containing the pairwise\n",
        "                IoU values for every element in boxes1 and boxes2\n",
        "        \"\"\"\n",
        "\n",
        "        def box_area(box):\n",
        "            # box = 4xn\n",
        "            return (box[2] - box[0]) * (box[3] - box[1])\n",
        "\n",
        "        area1 = box_area(box1.T)\n",
        "        area2 = box_area(box2.T)\n",
        "\n",
        "        # inter(N,M) = (rb(N,M,2) - lt(N,M,2)).clamp(0).prod(2)\n",
        "        inter = (torch.min(box1[:, None, 2:], box2[:, 2:]) -\n",
        "                torch.max(box1[:, None, :2], box2[:, :2])).clamp(0).prod(2)\n",
        "        # iou = inter / (area1 + area2 - inter)\n",
        "        return inter / (area1[:, None] + area2 - inter)\n",
        "\n",
        "\n",
        "    def non_max_suppression_face(self, prediction, conf_thres=0.25, iou_thres=0.45, classes=None, agnostic=False, labels=()):\n",
        "        \"\"\"Performs Non-Maximum Suppression (NMS) on inference results\n",
        "        Returns:\n",
        "            detections with shape: nx6 (x1, y1, x2, y2, conf, cls)\n",
        "        \"\"\"\n",
        "\n",
        "        nc = prediction.shape[2] - 15  # number of classes\n",
        "        xc = prediction[..., 4] > conf_thres  # candidates\n",
        "\n",
        "        # Settings\n",
        "        min_wh, max_wh = 2, 4096  # (pixels) minimum and maximum box width and height\n",
        "        time_limit = 10.0  # seconds to quit after\n",
        "        redundant = True  # require redundant detections\n",
        "        multi_label = nc > 1  # multiple labels per box (adds 0.5ms/img)\n",
        "        merge = False  # use merge-NMS\n",
        "\n",
        "        t = time.time()\n",
        "        output = [torch.zeros((0, 16), device=prediction.device)] * prediction.shape[0]\n",
        "        for xi, x in enumerate(prediction):  # image index, image inference\n",
        "            # Apply constraints\n",
        "            # x[((x[..., 2:4] < min_wh) | (x[..., 2:4] > max_wh)).any(1), 4] = 0  # width-height\n",
        "            x = x[xc[xi]]  # confidence\n",
        "\n",
        "            # Cat apriori labels if autolabelling\n",
        "            if labels and len(labels[xi]):\n",
        "                l = labels[xi]\n",
        "                v = torch.zeros((len(l), nc + 15), device=x.device)\n",
        "                v[:, :4] = l[:, 1:5]  # box\n",
        "                v[:, 4] = 1.0  # conf\n",
        "                v[range(len(l)), l[:, 0].long() + 15] = 1.0  # cls\n",
        "                x = torch.cat((x, v), 0)\n",
        "\n",
        "            # If none remain process next image\n",
        "            if not x.shape[0]:\n",
        "                continue\n",
        "\n",
        "            # Compute conf\n",
        "            x[:, 15:] *= x[:, 4:5]  # conf = obj_conf * cls_conf\n",
        "\n",
        "            # Box (center x, center y, width, height) to (x1, y1, x2, y2)\n",
        "            box = self.xywh2xyxy(x[:, :4])\n",
        "\n",
        "            # Detections matrix nx6 (xyxy, conf, landmarks, cls)\n",
        "            if multi_label:\n",
        "                i, j = (x[:, 15:] > conf_thres).nonzero(as_tuple=False).T\n",
        "                x = torch.cat((box[i], x[i, j + 15, None], x[i, 5:15] ,j[:, None].float()), 1)\n",
        "            else:  # best class only\n",
        "                conf, j = x[:, 15:].max(1, keepdim=True)\n",
        "                x = torch.cat((box, conf, x[:, 5:15], j.float()), 1)[conf.view(-1) > conf_thres]\n",
        "\n",
        "            # Filter by class\n",
        "            if classes is not None:\n",
        "                x = x[(x[:, 5:6] == torch.tensor(classes, device=x.device)).any(1)]\n",
        "\n",
        "            # If none remain process next image\n",
        "            n = x.shape[0]  # number of boxes\n",
        "            if not n:\n",
        "                continue\n",
        "\n",
        "            # Batched NMS\n",
        "            c = x[:, 15:16] * (0 if agnostic else max_wh)  # classes\n",
        "            boxes, scores = x[:, :4] + c, x[:, 4]  # boxes (offset by class), scores\n",
        "            i = torchvision.ops.nms(boxes, scores, iou_thres)  # NMS\n",
        "            #if i.shape[0] > max_det:  # limit detections\n",
        "            #    i = i[:max_det]\n",
        "            if merge and (1 < n < 3E3):  # Merge NMS (boxes merged using weighted mean)\n",
        "                # update boxes as boxes(i,4) = weights(i,n) * boxes(n,4)\n",
        "                iou = box_iou(boxes[i], boxes) > iou_thres  # iou matrix\n",
        "                weights = iou * scores[None]  # box weights\n",
        "                x[i, :4] = torch.mm(weights, x[:, :4]).float() / weights.sum(1, keepdim=True)  # merged boxes\n",
        "                if redundant:\n",
        "                    i = i[iou.sum(1) > 1]  # require redundancy\n",
        "\n",
        "            output[xi] = x[i]\n",
        "            if (time.time() - t) > time_limit:\n",
        "                break  # time limit exceeded\n",
        "\n",
        "        return output\n",
        "\n",
        "    \n",
        "\n",
        "    def xywh2xyxy(self, x):\n",
        "        # Convert nx4 boxes from [x, y, w, h] to [x1, y1, x2, y2] where xy1=top-left, xy2=bottom-right\n",
        "        y = torch.zeros_like(x) if isinstance(x, torch.Tensor) else np.zeros_like(x)\n",
        "        y[:, 0] = x[:, 0] - x[:, 2] / 2  # top left x\n",
        "        y[:, 1] = x[:, 1] - x[:, 3] / 2  # top left y\n",
        "        y[:, 2] = x[:, 0] + x[:, 2] / 2  # bottom right x\n",
        "        y[:, 3] = x[:, 1] + x[:, 3] / 2  # bottom right y\n",
        "        return y\n",
        "\n",
        "    # Read classes.txt \n",
        "    def class_name(self):\n",
        "        classes=[]\n",
        "        file= open(self.names,'r')\n",
        "        while True:\n",
        "          name=file.readline().strip('\\n')\n",
        "          classes.append(name)\n",
        "          if not name:\n",
        "            break\n",
        "        return classes\n",
        "\n",
        "    def letterbox(self, im, color=(114, 114, 114), auto=True, scaleup=True, stride=32):\n",
        "        # Resize and pad image while meeting stride-multiple constraints\n",
        "        shape = im.shape[:2]  # current shape [height, width]\n",
        "        new_shape= self.img_size\n",
        "        if isinstance(new_shape, int):\n",
        "            new_shape = (new_shape, new_shape)\n",
        "\n",
        "        # Scale ratio (new / old)\n",
        "        r = min(new_shape[0] / shape[0], new_shape[1] / shape[1])\n",
        "        if not scaleup:  # only scale down, do not scale up (for better val mAP)\n",
        "            r = min(r, 1.0)\n",
        "\n",
        "        # Compute padding\n",
        "        new_unpad = int(round(shape[1] * r)), int(round(shape[0] * r))\n",
        "        dw, dh = new_shape[1] - new_unpad[0], new_shape[0] - new_unpad[1]  # wh padding\n",
        "\n",
        "        if auto:  # minimum rectangle\n",
        "            dw, dh = np.mod(dw, stride), np.mod(dh, stride)  # wh padding\n",
        "\n",
        "        dw /= 2  # divide padding into 2 sides\n",
        "        dh /= 2\n",
        "\n",
        "        if shape[::-1] != new_unpad:  # resize\n",
        "            im = cv2.resize(im, new_unpad, interpolation=cv2.INTER_LINEAR)\n",
        "        top, bottom = int(round(dh - 0.1)), int(round(dh + 0.1))\n",
        "        left, right = int(round(dw - 0.1)), int(round(dw + 0.1))\n",
        "        im = cv2.copyMakeBorder(im, top, bottom, left, right, cv2.BORDER_CONSTANT, value=color)  # add border\n",
        "        return im, r, (dw, dh)\n",
        "\n",
        "    # Initialize ONNXRuntime session   \n",
        "    def ort_session(self):\n",
        "        providers = ['CUDAExecutionProvider', 'CPUExecutionProvider'] if ort.get_device()=='GPU' else ['CPUExecutionProvider']\n",
        "        session = ort.InferenceSession(self.onnx_model, providers=providers)\n",
        "        print(session.get_providers())\n",
        "        return session\n",
        "\n",
        "    # Display results\n",
        "    def result(self,img,ratio, dwdh, out):\n",
        "        names= self.class_name()\n",
        "        colors = {name:[random.randint(0, 255) for _ in range(3)] for i,name in enumerate(names)}  \n",
        "        for i,(x0,y0,x1,y1, score) in enumerate(out[:,0:5]):\n",
        "            box = np.array([x0,y0,x1,y1])\n",
        "            box -= np.array(dwdh*2)\n",
        "            box /= ratio\n",
        "            box = box.round().astype(np.int32).tolist()\n",
        "            # cls_id = int(cls_id)\n",
        "            score = round(float(score),3)\n",
        "            name = names[0]\n",
        "            color = colors[name]\n",
        "            name += ' '+str(score)\n",
        "            cv2.rectangle(img,box[:2],box[2:],color,2)\n",
        "            cv2.putText(img,name,(box[0], box[1] - 2),cv2.FONT_HERSHEY_SIMPLEX,0.75,[225, 255, 255],thickness=2) \n",
        "        return img"
      ]
    },
    {
      "cell_type": "code",
      "execution_count": 13,
      "metadata": {},
      "outputs": [
        {
          "name": "stdout",
          "output_type": "stream",
          "text": [
            "[WinError 3] The system cannot find the path specified: \"'./yolov5-face/'\"\n",
            "d:\\ACODE\\a\n"
          ]
        }
      ],
      "source": [
        "%cd './yolov5-face/'"
      ]
    },
    {
      "cell_type": "code",
      "execution_count": 14,
      "metadata": {},
      "outputs": [
        {
          "name": "stdout",
          "output_type": "stream",
          "text": [
            " Volume in drive D is DATA\n",
            " Volume Serial Number is 6EFE-7BD9\n",
            "\n",
            " Directory of d:\\ACODE\\a\n",
            "\n",
            "02/10/2023  01:28 PM    <DIR>          .\n",
            "02/10/2023  01:28 PM    <DIR>          ..\n",
            "02/10/2023  01:01 PM                 0 check.ipynb\n",
            "02/10/2023  01:31 PM            50,137 pthTOpt.ipynb\n",
            "02/10/2023  01:11 PM    <DIR>          yolov5_pt\n",
            "02/10/2023  01:28 PM    <DIR>          yolov5-face\n",
            "               2 File(s)         50,137 bytes\n",
            "               4 Dir(s)  18,967,748,608 bytes free\n"
          ]
        }
      ],
      "source": [
        "%ls"
      ]
    },
    {
      "cell_type": "code",
      "execution_count": 2,
      "metadata": {
        "id": "XvsC3TWzF3Er"
      },
      "outputs": [],
      "source": [
        "image = './/yolov5-face//data/images/test.jpg'\n",
        "weights = './/yolov5-face//yolov5m-face.onnx'\n",
        "conf = 0.7\n",
        "iou_thres = 0.5\n",
        "img_size = 640\n",
        "classes_txt = './/yolov5-face//classes.txt'"
      ]
    },
    {
      "cell_type": "code",
      "execution_count": 13,
      "metadata": {},
      "outputs": [
        {
          "name": "stdout",
          "output_type": "stream",
          "text": [
            "Collecting numpy==1.24.1\n",
            "  Using cached numpy-1.24.1-cp310-cp310-win_amd64.whl (14.8 MB)\n",
            "Installing collected packages: numpy\n",
            "  Attempting uninstall: numpy\n",
            "    Found existing installation: numpy 1.21.6\n",
            "    Uninstalling numpy-1.21.6:\n",
            "      Successfully uninstalled numpy-1.21.6\n"
          ]
        },
        {
          "name": "stderr",
          "output_type": "stream",
          "text": [
            "WARNING: Ignoring invalid distribution -p (c:\\python310\\lib\\site-packages)\n",
            "WARNING: Ignoring invalid distribution -mpy (c:\\python310\\lib\\site-packages)\n",
            "WARNING: Ignoring invalid distribution -umpy (c:\\python310\\lib\\site-packages)\n",
            "WARNING: Ignoring invalid distribution -mpy (c:\\python310\\lib\\site-packages)\n",
            "WARNING: Ignoring invalid distribution -ip (c:\\python310\\lib\\site-packages)\n",
            "WARNING: Ignoring invalid distribution - (c:\\python310\\lib\\site-packages)\n",
            "WARNING: Ignoring invalid distribution -p (c:\\python310\\lib\\site-packages)\n",
            "WARNING: Ignoring invalid distribution -mpy (c:\\python310\\lib\\site-packages)\n",
            "WARNING: Ignoring invalid distribution -umpy (c:\\python310\\lib\\site-packages)\n",
            "WARNING: Ignoring invalid distribution -mpy (c:\\python310\\lib\\site-packages)\n",
            "WARNING: Ignoring invalid distribution -ip (c:\\python310\\lib\\site-packages)\n",
            "WARNING: Ignoring invalid distribution - (c:\\python310\\lib\\site-packages)\n",
            "WARNING: Ignoring invalid distribution -p (c:\\python310\\lib\\site-packages)\n",
            "WARNING: Ignoring invalid distribution -mpy (c:\\python310\\lib\\site-packages)\n",
            "WARNING: Ignoring invalid distribution -umpy (c:\\python310\\lib\\site-packages)\n",
            "WARNING: Ignoring invalid distribution -mpy (c:\\python310\\lib\\site-packages)\n",
            "WARNING: Ignoring invalid distribution -ip (c:\\python310\\lib\\site-packages)\n",
            "WARNING: Ignoring invalid distribution - (c:\\python310\\lib\\site-packages)\n",
            "  WARNING: The script f2py.exe is installed in 'C:\\Users\\ADMIN\\AppData\\Roaming\\Python\\Python310\\Scripts' which is not on PATH.\n",
            "  Consider adding this directory to PATH or, if you prefer to suppress this warning, use --no-warn-script-location.\n",
            "ERROR: Could not install packages due to an OSError: [WinError 5] Access is denied: 'C:\\\\Users\\\\ADMIN\\\\AppData\\\\Roaming\\\\Python\\\\Python310\\\\site-packages\\\\~umpy\\\\.libs\\\\libopenblas.XWYDX2IKJW2NMTWSFYNGFUWKQU3LYTCZ.gfortran-win_amd64.dll'\n",
            "Check the permissions.\n",
            "\n",
            "WARNING: Ignoring invalid distribution -p (c:\\python310\\lib\\site-packages)\n",
            "WARNING: Ignoring invalid distribution -mpy (c:\\python310\\lib\\site-packages)\n",
            "WARNING: Ignoring invalid distribution -umpy (c:\\python310\\lib\\site-packages)\n",
            "WARNING: Ignoring invalid distribution -mpy (c:\\python310\\lib\\site-packages)\n",
            "WARNING: Ignoring invalid distribution -ip (c:\\python310\\lib\\site-packages)\n",
            "WARNING: Ignoring invalid distribution - (c:\\python310\\lib\\site-packages)\n",
            "WARNING: Ignoring invalid distribution -p (c:\\python310\\lib\\site-packages)\n",
            "WARNING: Ignoring invalid distribution -mpy (c:\\python310\\lib\\site-packages)\n",
            "WARNING: Ignoring invalid distribution -umpy (c:\\python310\\lib\\site-packages)\n",
            "WARNING: Ignoring invalid distribution -mpy (c:\\python310\\lib\\site-packages)\n",
            "WARNING: Ignoring invalid distribution -ip (c:\\python310\\lib\\site-packages)\n",
            "WARNING: Ignoring invalid distribution - (c:\\python310\\lib\\site-packages)\n",
            "WARNING: Ignoring invalid distribution -p (c:\\python310\\lib\\site-packages)\n",
            "WARNING: Ignoring invalid distribution -mpy (c:\\python310\\lib\\site-packages)\n",
            "WARNING: Ignoring invalid distribution -umpy (c:\\python310\\lib\\site-packages)\n",
            "WARNING: Ignoring invalid distribution -mpy (c:\\python310\\lib\\site-packages)\n",
            "WARNING: Ignoring invalid distribution -ip (c:\\python310\\lib\\site-packages)\n",
            "WARNING: Ignoring invalid distribution - (c:\\python310\\lib\\site-packages)\n",
            "WARNING: You are using pip version 22.0.4; however, version 23.0 is available.\n",
            "You should consider upgrading via the 'C:\\Python310\\python.exe -m pip install --upgrade pip' command.\n"
          ]
        }
      ],
      "source": [
        "!pip install --user -r .//requirement.txt"
      ]
    },
    {
      "cell_type": "code",
      "execution_count": 11,
      "metadata": {},
      "outputs": [
        {
          "name": "stdout",
          "output_type": "stream",
          "text": [
            "['CPUExecutionProvider']\n",
            "['CPUExecutionProvider']\n",
            "['CPUExecutionProvider']\n",
            "['CPUExecutionProvider']\n",
            "['CPUExecutionProvider']\n",
            "['CPUExecutionProvider']\n",
            "['CPUExecutionProvider']\n",
            "['CPUExecutionProvider']\n",
            "['CPUExecutionProvider']\n",
            "['CPUExecutionProvider']\n",
            "['CPUExecutionProvider']\n",
            "['CPUExecutionProvider']\n",
            "['CPUExecutionProvider']\n",
            "['CPUExecutionProvider']\n",
            "['CPUExecutionProvider']\n",
            "['CPUExecutionProvider']\n",
            "['CPUExecutionProvider']\n",
            "['CPUExecutionProvider']\n",
            "['CPUExecutionProvider']\n",
            "['CPUExecutionProvider']\n",
            "['CPUExecutionProvider']\n",
            "['CPUExecutionProvider']\n",
            "['CPUExecutionProvider']\n",
            "['CPUExecutionProvider']\n",
            "['CPUExecutionProvider']\n",
            "['CPUExecutionProvider']\n",
            "['CPUExecutionProvider']\n",
            "['CPUExecutionProvider']\n",
            "['CPUExecutionProvider']\n",
            "['CPUExecutionProvider']\n",
            "['CPUExecutionProvider']\n",
            "['CPUExecutionProvider']\n",
            "['CPUExecutionProvider']\n",
            "['CPUExecutionProvider']\n",
            "['CPUExecutionProvider']\n",
            "['CPUExecutionProvider']\n",
            "['CPUExecutionProvider']\n",
            "['CPUExecutionProvider']\n",
            "['CPUExecutionProvider']\n",
            "['CPUExecutionProvider']\n",
            "['CPUExecutionProvider']\n",
            "['CPUExecutionProvider']\n",
            "['CPUExecutionProvider']\n",
            "['CPUExecutionProvider']\n",
            "['CPUExecutionProvider']\n",
            "['CPUExecutionProvider']\n",
            "['CPUExecutionProvider']\n",
            "['CPUExecutionProvider']\n",
            "['CPUExecutionProvider']\n",
            "['CPUExecutionProvider']\n",
            "['CPUExecutionProvider']\n",
            "['CPUExecutionProvider']\n",
            "['CPUExecutionProvider']\n",
            "['CPUExecutionProvider']\n",
            "['CPUExecutionProvider']\n",
            "['CPUExecutionProvider']\n",
            "['CPUExecutionProvider']\n",
            "['CPUExecutionProvider']\n",
            "['CPUExecutionProvider']\n",
            "['CPUExecutionProvider']\n",
            "['CPUExecutionProvider']\n",
            "['CPUExecutionProvider']\n",
            "['CPUExecutionProvider']\n",
            "['CPUExecutionProvider']\n",
            "['CPUExecutionProvider']\n",
            "['CPUExecutionProvider']\n",
            "['CPUExecutionProvider']\n",
            "['CPUExecutionProvider']\n",
            "['CPUExecutionProvider']\n",
            "['CPUExecutionProvider']\n",
            "['CPUExecutionProvider']\n",
            "['CPUExecutionProvider']\n",
            "['CPUExecutionProvider']\n",
            "['CPUExecutionProvider']\n",
            "['CPUExecutionProvider']\n",
            "['CPUExecutionProvider']\n",
            "['CPUExecutionProvider']\n",
            "['CPUExecutionProvider']\n",
            "['CPUExecutionProvider']\n",
            "['CPUExecutionProvider']\n",
            "['CPUExecutionProvider']\n",
            "['CPUExecutionProvider']\n",
            "['CPUExecutionProvider']\n",
            "['CPUExecutionProvider']\n",
            "['CPUExecutionProvider']\n",
            "['CPUExecutionProvider']\n",
            "['CPUExecutionProvider']\n",
            "['CPUExecutionProvider']\n",
            "['CPUExecutionProvider']\n",
            "['CPUExecutionProvider']\n",
            "['CPUExecutionProvider']\n",
            "['CPUExecutionProvider']\n",
            "['CPUExecutionProvider']\n",
            "['CPUExecutionProvider']\n",
            "['CPUExecutionProvider']\n",
            "['CPUExecutionProvider']\n",
            "['CPUExecutionProvider']\n",
            "['CPUExecutionProvider']\n",
            "['CPUExecutionProvider']\n",
            "['CPUExecutionProvider']\n",
            "['CPUExecutionProvider']\n",
            "['CPUExecutionProvider']\n",
            "['CPUExecutionProvider']\n",
            "['CPUExecutionProvider']\n",
            "['CPUExecutionProvider']\n",
            "['CPUExecutionProvider']\n",
            "['CPUExecutionProvider']\n",
            "['CPUExecutionProvider']\n",
            "['CPUExecutionProvider']\n",
            "['CPUExecutionProvider']\n",
            "['CPUExecutionProvider']\n",
            "['CPUExecutionProvider']\n",
            "['CPUExecutionProvider']\n",
            "['CPUExecutionProvider']\n",
            "['CPUExecutionProvider']\n",
            "['CPUExecutionProvider']\n",
            "['CPUExecutionProvider']\n",
            "['CPUExecutionProvider']\n",
            "['CPUExecutionProvider']\n",
            "['CPUExecutionProvider']\n",
            "['CPUExecutionProvider']\n",
            "['CPUExecutionProvider']\n",
            "['CPUExecutionProvider']\n",
            "['CPUExecutionProvider']\n",
            "['CPUExecutionProvider']\n",
            "['CPUExecutionProvider']\n",
            "['CPUExecutionProvider']\n",
            "['CPUExecutionProvider']\n",
            "['CPUExecutionProvider']\n",
            "['CPUExecutionProvider']\n",
            "['CPUExecutionProvider']\n",
            "['CPUExecutionProvider']\n",
            "['CPUExecutionProvider']\n",
            "['CPUExecutionProvider']\n",
            "['CPUExecutionProvider']\n",
            "['CPUExecutionProvider']\n",
            "['CPUExecutionProvider']\n",
            "['CPUExecutionProvider']\n",
            "['CPUExecutionProvider']\n",
            "['CPUExecutionProvider']\n",
            "['CPUExecutionProvider']\n",
            "['CPUExecutionProvider']\n"
          ]
        }
      ],
      "source": [
        "ORT= ort_v5(image, weights, conf, iou_thres, (img_size, img_size), classes=classes_txt, webcam=True)\n",
        "ORT()"
      ]
    }
  ],
  "metadata": {
    "colab": {
      "provenance": []
    },
    "gpuClass": "standard",
    "kernelspec": {
      "display_name": "epylib",
      "language": "python",
      "name": "python3"
    },
    "language_info": {
      "codemirror_mode": {
        "name": "ipython",
        "version": 3
      },
      "file_extension": ".py",
      "mimetype": "text/x-python",
      "name": "python",
      "nbconvert_exporter": "python",
      "pygments_lexer": "ipython3",
      "version": "3.9.13"
    },
    "vscode": {
      "interpreter": {
        "hash": "8bfb5daebde50ef87b96b2fca9b278ef37649c7e936f196fa4998753ae869521"
      }
    }
  },
  "nbformat": 4,
  "nbformat_minor": 0
}
